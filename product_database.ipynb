{
 "cells": [
  {
   "cell_type": "code",
   "execution_count": 5,
   "metadata": {},
   "outputs": [],
   "source": [
    "products = {\n",
    "    1: {\n",
    "        \"Brand\": \"Prada\",\n",
    "        \"Product type\": \"Sunglasses\",\n",
    "        \"Materials\": {\n",
    "            \"Acetate\": 100\n",
    "        }\n",
    "    },\n",
    "    2: {\n",
    "        \"Brand\": \"Zara\",\n",
    "        \"Product type\": \"Sweatshirt\",\n",
    "        \"Materials\": {\n",
    "            \"Cotton\": 85,\n",
    "            \"Web cotton\": 15\n",
    "        }\n",
    "    },\n",
    "    3: {\n",
    "        \"Brand\": \"Levi's\",\n",
    "        \"Product type\": \"Jeans\",\n",
    "        \"Materials\": {\n",
    "            \"Cotton\": 85,\n",
    "            \"Lyocell\": 7,\n",
    "            \"Elastomultiester\": 6,\n",
    "            \"Elastane\": 2\n",
    "        }\n",
    "    },\n",
    "    1: {\n",
    "        \"Brand\": \"Prada\",\n",
    "        \"Product type\": \"Sunglasses\",\n",
    "        \"Materials\": {\n",
    "            \"Acetate\": 100\n",
    "        }\n",
    "    },\n",
    "    1: {\n",
    "        \"Brand\": \"Prada\",\n",
    "        \"Product type\": \"Sunglasses\",\n",
    "        \"Materials\": {\n",
    "            \"Acetate\": 100\n",
    "        }\n",
    "    }\n",
    "}"
   ]
  }
 ],
 "metadata": {
  "kernelspec": {
   "display_name": "Python 3",
   "language": "python",
   "name": "python3"
  },
  "language_info": {
   "codemirror_mode": {
    "name": "ipython",
    "version": 3
   },
   "file_extension": ".py",
   "mimetype": "text/x-python",
   "name": "python",
   "nbconvert_exporter": "python",
   "pygments_lexer": "ipython3",
   "version": "3.13.1"
  }
 },
 "nbformat": 4,
 "nbformat_minor": 2
}
