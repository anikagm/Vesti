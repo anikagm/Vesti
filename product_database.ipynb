{
 "cells": [
  {
   "cell_type": "code",
   "execution_count": 6,
   "metadata": {},
   "outputs": [],
   "source": [
    "products = {\n",
    "    374440989658: {\n",
    "        \"Brand\": \"Prada\",\n",
    "        \"Product type\": \"Sunglasses\",\n",
    "        \"Materials\": {\n",
    "            \"Acetate\": 100\n",
    "        }\n",
    "    },\n",
    "    240335076189: {\n",
    "        \"Brand\": \"Zara\",\n",
    "        \"Product type\": \"Sweatshirt\",\n",
    "        \"Materials\": {\n",
    "            \"Cotton\": 85,\n",
    "            \"Web cotton\": 15\n",
    "        }\n",
    "    },\n",
    "    588879154298: {\n",
    "        \"Brand\": \"Levi's\",\n",
    "        \"Product type\": \"Jeans\",\n",
    "        \"Materials\": {\n",
    "            \"Cotton\": 85,\n",
    "            \"Lyocell\": 7,\n",
    "            \"Elastomultiester\": 6,\n",
    "            \"Elastane\": 2\n",
    "        }\n",
    "    },\n",
    "    111120732189: {\n",
    "        \"Brand\": \"Forever 21\",\n",
    "        \"Product type\": \"Dress\",\n",
    "        \"Materials\": {\n",
    "            \"Polyester\": 73,\n",
    "            \"Rayon\": 26,\n",
    "            \"Nylon\": 1\n",
    "        }\n",
    "    },\n",
    "    577606577902: {\n",
    "        \"Brand\": \"H&M\",\n",
    "        \"Product type\": \"Scarf\",\n",
    "        \"Materials\": {\n",
    "            \"Recycled polyester\": 100\n",
    "        }\n",
    "    }\n",
    "}"
   ]
  }
 ],
 "metadata": {
  "kernelspec": {
   "display_name": "Python 3",
   "language": "python",
   "name": "python3"
  },
  "language_info": {
   "codemirror_mode": {
    "name": "ipython",
    "version": 3
   },
   "file_extension": ".py",
   "mimetype": "text/x-python",
   "name": "python",
   "nbconvert_exporter": "python",
   "pygments_lexer": "ipython3",
   "version": "3.13.1"
  }
 },
 "nbformat": 4,
 "nbformat_minor": 2
}
